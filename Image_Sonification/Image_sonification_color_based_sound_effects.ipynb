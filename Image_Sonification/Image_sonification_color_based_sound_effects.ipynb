{
  "nbformat": 4,
  "nbformat_minor": 0,
  "metadata": {
    "colab": {
      "provenance": []
    },
    "kernelspec": {
      "name": "python3",
      "display_name": "Python 3"
    },
    "language_info": {
      "name": "python"
    }
  },
  "cells": [
    {
      "cell_type": "code",
      "source": [
        "!pip install pydub"
      ],
      "metadata": {
        "colab": {
          "base_uri": "https://localhost:8080/"
        },
        "id": "KYCfhe0P-wtw",
        "outputId": "8214d648-1b60-4c02-ca38-7cb05c450a62"
      },
      "execution_count": 1,
      "outputs": [
        {
          "output_type": "stream",
          "name": "stdout",
          "text": [
            "Collecting pydub\n",
            "  Downloading pydub-0.25.1-py2.py3-none-any.whl.metadata (1.4 kB)\n",
            "Downloading pydub-0.25.1-py2.py3-none-any.whl (32 kB)\n",
            "Installing collected packages: pydub\n",
            "Successfully installed pydub-0.25.1\n"
          ]
        }
      ]
    },
    {
      "cell_type": "code",
      "execution_count": 4,
      "metadata": {
        "colab": {
          "base_uri": "https://localhost:8080/"
        },
        "id": "BOWFtm1W-OF_",
        "outputId": "80d53a7b-14a9-407d-dc2c-c84f34aafcf6"
      },
      "outputs": [
        {
          "output_type": "stream",
          "name": "stdout",
          "text": [
            "Sound file saved as color_based_sound.wav\n"
          ]
        }
      ],
      "source": [
        "import numpy as np\n",
        "import pandas as pd\n",
        "import soundfile as sf\n",
        "from pydub import AudioSegment\n",
        "from pydub.generators import Sine\n",
        "\n",
        "def color_based_sound_effects(df, sample_rate=22050, duration=0.5):\n",
        "    \"\"\"\n",
        "    Generate sound wave based on color values in the pixel data.\n",
        "\n",
        "    Args:\n",
        "        df (pd.DataFrame): DataFrame containing 'R', 'G', 'B' columns.\n",
        "        sample_rate (int): Sample rate of the audio.\n",
        "        duration (float): Duration of sound for each row of pixels.\n",
        "\n",
        "    Returns:\n",
        "        np.ndarray: Generated wave.\n",
        "        int: Sample rate.\n",
        "    \"\"\"\n",
        "    # Initialize wave list\n",
        "    wave = []\n",
        "\n",
        "    # Iterate through each row of pixel data\n",
        "    for _, row in df.iterrows():\n",
        "        red = row['R'] / 255.0\n",
        "        green = row['G'] / 255.0\n",
        "        blue = row['B'] / 255.0\n",
        "\n",
        "        # Create time array\n",
        "        t = np.linspace(0, duration, int(sample_rate * duration), endpoint=False)\n",
        "\n",
        "        # Generate sine waves for each color channel\n",
        "        wave_row = 0.5 * (red * np.sin(2 * np.pi * 440 * t) +\n",
        "                          green * np.sin(2 * np.pi * 660 * t) +\n",
        "                          blue * np.sin(2 * np.pi * 880 * t))\n",
        "\n",
        "        # Append to wave list\n",
        "        wave.extend(wave_row)\n",
        "\n",
        "    # Convert wave list to numpy array\n",
        "    wave = np.array(wave)\n",
        "\n",
        "    return wave, sample_rate\n",
        "\n",
        "def save_wave_to_file(wave, sample_rate, filename='color_based_sound.wav'):\n",
        "    \"\"\"\n",
        "    Save the generated wave to a .wav file.\n",
        "\n",
        "    Args:\n",
        "        wave (np.ndarray): Generated wave data.\n",
        "        sample_rate (int): Sample rate of the audio.\n",
        "        filename (str): Output filename.\n",
        "    \"\"\"\n",
        "    sf.write(filename, wave, sample_rate)\n",
        "    print(f\"Sound file saved as {filename}\")\n",
        "\n",
        "def play_wave_file(filename='color_based_sound.wav'):\n",
        "    \"\"\"\n",
        "    Play the generated .wav file.\n",
        "\n",
        "    Args:\n",
        "        filename (str): Filename of the .wav file.\n",
        "    \"\"\"\n",
        "# Example usage\n",
        "def main():\n",
        "    # Load pixel data from CSV file (replace with your file path)\n",
        "    df = pd.read_csv('/content/galaxy_image_pixel_data.csv')\n",
        "\n",
        "    # Take the first 1000 rows\n",
        "    df_subset = df.head(1000)\n",
        "\n",
        "    # Generate sound wave\n",
        "    wave, sample_rate = color_based_sound_effects(df_subset)\n",
        "\n",
        "    # Save and play sound wave\n",
        "    save_wave_to_file(wave, sample_rate)\n",
        "    play_wave_file()\n",
        "\n",
        "if __name__ == \"__main__\":\n",
        "    main()\n"
      ]
    },
    {
      "cell_type": "code",
      "source": [],
      "metadata": {
        "id": "KG_EcWZsBLPF"
      },
      "execution_count": null,
      "outputs": []
    }
  ]
}