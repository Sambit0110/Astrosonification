{
  "nbformat": 4,
  "nbformat_minor": 0,
  "metadata": {
    "colab": {
      "provenance": [],
      "gpuType": "T4"
    },
    "kernelspec": {
      "name": "python3",
      "display_name": "Python 3"
    },
    "language_info": {
      "name": "python"
    },
    "accelerator": "GPU"
  },
  "cells": [
    {
      "cell_type": "code",
      "source": [
        "! pip install pydub"
      ],
      "metadata": {
        "colab": {
          "base_uri": "https://localhost:8080/"
        },
        "id": "MgrguLqtaI6A",
        "outputId": "437a1c3f-41d1-4d58-f80e-f9b20538e1c7"
      },
      "execution_count": 1,
      "outputs": [
        {
          "output_type": "stream",
          "name": "stdout",
          "text": [
            "Collecting pydub\n",
            "  Downloading pydub-0.25.1-py2.py3-none-any.whl.metadata (1.4 kB)\n",
            "Downloading pydub-0.25.1-py2.py3-none-any.whl (32 kB)\n",
            "Installing collected packages: pydub\n",
            "Successfully installed pydub-0.25.1\n"
          ]
        }
      ]
    },
    {
      "cell_type": "code",
      "execution_count": 2,
      "metadata": {
        "id": "a0DAZz5WaE5S"
      },
      "outputs": [],
      "source": [
        "import numpy as np\n",
        "import pandas as pd\n",
        "from pydub import AudioSegment\n",
        "from pydub.generators import Sine\n",
        "import torch\n",
        "import colorsys"
      ]
    },
    {
      "cell_type": "code",
      "source": [
        "device = torch.device('cuda' if torch.cuda.is_available() else 'cpu')\n",
        "print(f'Using device: {device}')"
      ],
      "metadata": {
        "colab": {
          "base_uri": "https://localhost:8080/"
        },
        "id": "s6bq7UWnboym",
        "outputId": "e65cef46-bdba-4cf7-a86f-c550a822a637"
      },
      "execution_count": 3,
      "outputs": [
        {
          "output_type": "stream",
          "name": "stdout",
          "text": [
            "Using device: cuda\n"
          ]
        }
      ]
    },
    {
      "cell_type": "code",
      "source": [
        "df = pd.read_csv('/content/galaxy_image_pixel_data.csv')  # Replace with your CSV file path\n",
        "\n",
        "# Take the first 1000 rows\n",
        "df_subset = df.head(1000)"
      ],
      "metadata": {
        "id": "qCYn00zecjPe"
      },
      "execution_count": 4,
      "outputs": []
    },
    {
      "cell_type": "code",
      "source": [
        "# Create an empty audio segment\n",
        "audio = AudioSegment.silent(duration=0)"
      ],
      "metadata": {
        "id": "H39WT-UncuG1"
      },
      "execution_count": 5,
      "outputs": []
    },
    {
      "cell_type": "markdown",
      "source": [
        "### Function to map RGB values to frequencies"
      ],
      "metadata": {
        "id": "Hv0R0-fFbvy1"
      }
    },
    {
      "cell_type": "code",
      "source": [
        "def map_frequency(value, min_freq, max_freq, offset):\n",
        "    return offset + (value / 255.0) * (max_freq - min_freq)"
      ],
      "metadata": {
        "id": "ul798Halbr-d"
      },
      "execution_count": 6,
      "outputs": []
    },
    {
      "cell_type": "markdown",
      "source": [
        "## Generate an AudioSegment from RGB values"
      ],
      "metadata": {
        "id": "ipNx7WWcc1SF"
      }
    },
    {
      "cell_type": "code",
      "source": [
        "def generate_audio_from_rgb(rgb_data, duration_ms=100):\n",
        "    audio = AudioSegment.silent(duration=0)  # Initialize an empty audio segment\n",
        "\n",
        "    # Defining frequency ranges\n",
        "    rgb_frequency_range = {\n",
        "        'r': {'min': 30, 'max': 500, 'offset': 60},\n",
        "        'g': {'min': 500, 'max': 2000, 'offset': 250},\n",
        "        'b': {'min': 2000, 'max': 10000, 'offset': 1000},\n",
        "    }\n",
        "\n",
        "    # Generate sine waves for each RGB value\n",
        "    for _, row in rgb_data.iterrows():\n",
        "        freq_r = map_frequency(row['R'], rgb_frequency_range['r']['min'], rgb_frequency_range['r']['max'], rgb_frequency_range['r']['offset'])\n",
        "        freq_g = map_frequency(row['G'], rgb_frequency_range['g']['min'], rgb_frequency_range['g']['max'], rgb_frequency_range['g']['offset'])\n",
        "        freq_b = map_frequency(row['B'], rgb_frequency_range['b']['min'], rgb_frequency_range['b']['max'], rgb_frequency_range['b']['offset'])\n",
        "\n",
        "        sine_r = Sine(freq_r).to_audio_segment(duration=duration_ms, volume=row['R'] / 255 * 20 - 20)\n",
        "        sine_g = Sine(freq_g).to_audio_segment(duration=duration_ms, volume=row['G'] / 255 * 20 - 20)\n",
        "        sine_b = Sine(freq_b).to_audio_segment(duration=duration_ms, volume=row['B'] / 255 * 20 - 20)\n",
        "\n",
        "        # Combine the sine waves for R, G, and B into a single segment\n",
        "        combined = sine_r.overlay(sine_g).overlay(sine_b)\n",
        "        audio += combined  # Append to the audio segment\n",
        "\n",
        "    return audio"
      ],
      "metadata": {
        "id": "ZVIzA-1OdtlH"
      },
      "execution_count": 7,
      "outputs": []
    },
    {
      "cell_type": "markdown",
      "source": [
        "## Export the final sound file"
      ],
      "metadata": {
        "id": "eCY060Jfc6ps"
      }
    },
    {
      "cell_type": "code",
      "source": [
        "output_path = \"output_sound_1000_rows_frequency_mapping.wav\"\n",
        "audio = generate_audio_from_rgb(df_subset, duration_ms=100)\n",
        "audio.export(output_path, format=\"wav\")\n",
        "print(\"WAV file saved at:\", output_path)"
      ],
      "metadata": {
        "colab": {
          "base_uri": "https://localhost:8080/"
        },
        "id": "c7oujjqjc6WV",
        "outputId": "2f1e35d3-854c-4f75-915e-7f489f3ab13d"
      },
      "execution_count": 11,
      "outputs": [
        {
          "output_type": "stream",
          "name": "stdout",
          "text": [
            "WAV file saved at: output_sound_1000_rows_frequency_mapping.wav\n"
          ]
        }
      ]
    }
  ]
}