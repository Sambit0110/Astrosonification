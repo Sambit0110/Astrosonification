{
  "nbformat": 4,
  "nbformat_minor": 0,
  "metadata": {
    "colab": {
      "provenance": [],
      "gpuType": "T4"
    },
    "kernelspec": {
      "name": "python3",
      "display_name": "Python 3"
    },
    "language_info": {
      "name": "python"
    },
    "accelerator": "GPU"
  },
  "cells": [
    {
      "cell_type": "code",
      "source": [
        "! pip install pydub"
      ],
      "metadata": {
        "colab": {
          "base_uri": "https://localhost:8080/",
          "height": 0
        },
        "id": "MgrguLqtaI6A",
        "outputId": "98fba5d3-6da7-4187-fe59-17abc738e009"
      },
      "execution_count": 1,
      "outputs": [
        {
          "output_type": "stream",
          "name": "stdout",
          "text": [
            "Collecting pydub\n",
            "  Downloading pydub-0.25.1-py2.py3-none-any.whl.metadata (1.4 kB)\n",
            "Downloading pydub-0.25.1-py2.py3-none-any.whl (32 kB)\n",
            "Installing collected packages: pydub\n",
            "Successfully installed pydub-0.25.1\n"
          ]
        }
      ]
    },
    {
      "cell_type": "code",
      "execution_count": 3,
      "metadata": {
        "id": "a0DAZz5WaE5S"
      },
      "outputs": [],
      "source": [
        "import numpy as np\n",
        "import pandas as pd\n",
        "from pydub import AudioSegment\n",
        "from pydub.generators import Sine\n",
        "import torch\n",
        "import colorsys"
      ]
    },
    {
      "cell_type": "code",
      "source": [
        "device = torch.device('cuda' if torch.cuda.is_available() else 'cpu')\n",
        "print(f'Using device: {device}')"
      ],
      "metadata": {
        "colab": {
          "base_uri": "https://localhost:8080/",
          "height": 0
        },
        "id": "s6bq7UWnboym",
        "outputId": "20a199f8-8eb4-455e-d814-7e02c94a6d0b"
      },
      "execution_count": 5,
      "outputs": [
        {
          "output_type": "stream",
          "name": "stdout",
          "text": [
            "Using device: cuda\n"
          ]
        }
      ]
    },
    {
      "cell_type": "code",
      "source": [
        "df = pd.read_csv('/content/galaxy_image_pixel_data.csv')  # Replace with your CSV file path\n",
        "\n",
        "# Take the first 1000 rows\n",
        "df_subset = df.head(1000)"
      ],
      "metadata": {
        "id": "qCYn00zecjPe"
      },
      "execution_count": 6,
      "outputs": []
    },
    {
      "cell_type": "code",
      "source": [
        "# Create an empty audio segment\n",
        "audio = AudioSegment.silent(duration=0)"
      ],
      "metadata": {
        "id": "H39WT-UncuG1"
      },
      "execution_count": 7,
      "outputs": []
    },
    {
      "cell_type": "markdown",
      "source": [
        "### Function to convert RGB to HSV"
      ],
      "metadata": {
        "id": "Hv0R0-fFbvy1"
      }
    },
    {
      "cell_type": "code",
      "source": [
        "def rgb_to_hsv(r, g, b):\n",
        "    return colorsys.rgb_to_hsv(r / 255.0, g / 255.0, b / 255.0)"
      ],
      "metadata": {
        "id": "ul798Halbr-d"
      },
      "execution_count": 8,
      "outputs": []
    },
    {
      "cell_type": "markdown",
      "source": [
        "### Function to map hue to frequency"
      ],
      "metadata": {
        "id": "PnZyVrWyb9j9"
      }
    },
    {
      "cell_type": "code",
      "source": [
        "def hue_to_frequency(hue):\n",
        "    # Map hue (0-1) to frequency (220-880 Hz)\n",
        "    return 220 + hue * 660"
      ],
      "metadata": {
        "id": "SksyBo6GcDHW"
      },
      "execution_count": 9,
      "outputs": []
    },
    {
      "cell_type": "markdown",
      "source": [
        "### Function to map saturation to amplitude"
      ],
      "metadata": {
        "id": "JMgM6hE_cIP0"
      }
    },
    {
      "cell_type": "code",
      "source": [
        "def saturation_to_amplitude(saturation):\n",
        "    # Map saturation (0-1) to amplitude (0-1)\n",
        "    return saturation"
      ],
      "metadata": {
        "id": "CfhXvNBTcED_"
      },
      "execution_count": 10,
      "outputs": []
    },
    {
      "cell_type": "markdown",
      "source": [
        "### Function to map value to duration"
      ],
      "metadata": {
        "id": "rgN5JVJocMMd"
      }
    },
    {
      "cell_type": "code",
      "source": [
        "def value_to_duration(value):\n",
        "    # Map value (0-1) to duration (100-500 ms)\n",
        "    return 100 + value * 400"
      ],
      "metadata": {
        "id": "NgMLpGN4cLfm"
      },
      "execution_count": 11,
      "outputs": []
    },
    {
      "cell_type": "code",
      "source": [
        "def hsv_to_sound(hue, saturation, value):\n",
        "    frequency = hue_to_frequency(hue)\n",
        "    amplitude = saturation_to_amplitude(saturation)\n",
        "    duration = value_to_duration(value)\n",
        "    # Generate sine wave with the calculated frequency and amplitude\n",
        "    tone = Sine(frequency).to_audio_segment(duration=duration).apply_gain(amplitude * 20 - 20)\n",
        "    return tone"
      ],
      "metadata": {
        "id": "sz8ais43b2NO"
      },
      "execution_count": 12,
      "outputs": []
    },
    {
      "cell_type": "markdown",
      "source": [
        "## Generate sound for each pixel in the subset"
      ],
      "metadata": {
        "id": "ipNx7WWcc1SF"
      }
    },
    {
      "cell_type": "code",
      "source": [
        "for index, row in df_subset.iterrows():\n",
        "    r, g, b = row['R'], row['G'], row['B']\n",
        "    hue, saturation, value = rgb_to_hsv(r, g, b)\n",
        "    tone = hsv_to_sound(hue, saturation, value)\n",
        "    audio += tone"
      ],
      "metadata": {
        "id": "isL5N7EScdoY"
      },
      "execution_count": 13,
      "outputs": []
    },
    {
      "cell_type": "markdown",
      "source": [
        "## Export the final sound file"
      ],
      "metadata": {
        "id": "eCY060Jfc6ps"
      }
    },
    {
      "cell_type": "code",
      "source": [
        "output_filename = \"output_sound_1000_rows_hsv_mapping.wav\"\n",
        "audio.export(output_filename, format=\"wav\")\n",
        "print(f\"Generated {output_filename}\")"
      ],
      "metadata": {
        "colab": {
          "base_uri": "https://localhost:8080/",
          "height": 0
        },
        "id": "c7oujjqjc6WV",
        "outputId": "957dcf5a-66e9-4ade-e48e-e6a4ddb943ae"
      },
      "execution_count": 14,
      "outputs": [
        {
          "output_type": "stream",
          "name": "stdout",
          "text": [
            "Generated output_sound_1000_rows_hsv_mapping.wav\n"
          ]
        }
      ]
    }
  ]
}