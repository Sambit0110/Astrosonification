{
  "nbformat": 4,
  "nbformat_minor": 0,
  "metadata": {
    "colab": {
      "provenance": [],
      "gpuType": "T4"
    },
    "kernelspec": {
      "name": "python3",
      "display_name": "Python 3"
    },
    "language_info": {
      "name": "python"
    },
    "accelerator": "GPU"
  },
  "cells": [
    {
      "cell_type": "code",
      "source": [
        "! pip install pydub"
      ],
      "metadata": {
        "colab": {
          "base_uri": "https://localhost:8080/"
        },
        "id": "MgrguLqtaI6A",
        "outputId": "fedcd9c4-7481-435b-c3ea-5a3eadf3bdcc"
      },
      "execution_count": 1,
      "outputs": [
        {
          "output_type": "stream",
          "name": "stdout",
          "text": [
            "Collecting pydub\n",
            "  Downloading pydub-0.25.1-py2.py3-none-any.whl.metadata (1.4 kB)\n",
            "Downloading pydub-0.25.1-py2.py3-none-any.whl (32 kB)\n",
            "Installing collected packages: pydub\n",
            "Successfully installed pydub-0.25.1\n"
          ]
        }
      ]
    },
    {
      "cell_type": "code",
      "execution_count": 12,
      "metadata": {
        "id": "a0DAZz5WaE5S"
      },
      "outputs": [],
      "source": [
        "import numpy as np\n",
        "import pandas as pd\n",
        "from pydub import AudioSegment\n",
        "from pydub.generators import Sine, Square, Sawtooth\n",
        "import torch\n",
        "import colorsys"
      ]
    },
    {
      "cell_type": "code",
      "source": [
        "device = torch.device('cuda' if torch.cuda.is_available() else 'cpu')\n",
        "print(f'Using device: {device}')"
      ],
      "metadata": {
        "colab": {
          "base_uri": "https://localhost:8080/"
        },
        "id": "s6bq7UWnboym",
        "outputId": "0e1a249c-d855-4346-b3d8-c50554ffda64"
      },
      "execution_count": 13,
      "outputs": [
        {
          "output_type": "stream",
          "name": "stdout",
          "text": [
            "Using device: cuda\n"
          ]
        }
      ]
    },
    {
      "cell_type": "code",
      "source": [
        "df = pd.read_csv('/content/galaxy_image_pixel_data.csv')  # Replace with your CSV file path\n",
        "\n",
        "# Take the first 1000 rows\n",
        "df_subset = df.head(1000)"
      ],
      "metadata": {
        "id": "qCYn00zecjPe"
      },
      "execution_count": 14,
      "outputs": []
    },
    {
      "cell_type": "code",
      "source": [
        "# Create an empty audio segment\n",
        "audio = AudioSegment.silent(duration=0)"
      ],
      "metadata": {
        "id": "H39WT-UncuG1"
      },
      "execution_count": 15,
      "outputs": []
    },
    {
      "cell_type": "markdown",
      "source": [
        "### Function to calculate brightness from RGB"
      ],
      "metadata": {
        "id": "3dzoq-qshCAX"
      }
    },
    {
      "cell_type": "code",
      "source": [
        "def brightness(r, g, b):\n",
        "    return 0.299 * r + 0.587 * g + 0.114 * b"
      ],
      "metadata": {
        "id": "lKkzYU35gqCV"
      },
      "execution_count": 16,
      "outputs": []
    },
    {
      "cell_type": "markdown",
      "source": [
        "### Function to map brightness to pitch"
      ],
      "metadata": {
        "id": "G7H8meRdgzbO"
      }
    },
    {
      "cell_type": "code",
      "source": [
        "def brightness_to_pitch(brightness):\n",
        "    # Map brightness (0-255) to frequency (220-880 Hz)\n",
        "    return 220 + (brightness / 255.0) * 660"
      ],
      "metadata": {
        "id": "1wmDSS5Agp6I"
      },
      "execution_count": 17,
      "outputs": []
    },
    {
      "cell_type": "code",
      "source": [
        "def rgb_to_sound(r, g, b, duration=100):\n",
        "    pitch = brightness_to_pitch(brightness(r, g, b))\n",
        "\n",
        "    # Choose sound based on dominant color\n",
        "    if r > g and r > b:\n",
        "        tone = Sine(pitch).to_audio_segment(duration=duration)\n",
        "    elif g > r and g > b:\n",
        "        tone = Square(pitch).to_audio_segment(duration=duration)\n",
        "    else:\n",
        "        tone = Sawtooth(pitch).to_audio_segment(duration=duration)\n",
        "\n",
        "    return tone"
      ],
      "metadata": {
        "id": "9Z0QoalYgkHN"
      },
      "execution_count": 18,
      "outputs": []
    },
    {
      "cell_type": "code",
      "source": [
        "r_tensor = torch.tensor(df_subset['R'].values, dtype=torch.float32).to(device)\n",
        "g_tensor = torch.tensor(df_subset['G'].values, dtype=torch.float32).to(device)\n",
        "b_tensor = torch.tensor(df_subset['B'].values, dtype=torch.float32).to(device)"
      ],
      "metadata": {
        "id": "ul798Halbr-d"
      },
      "execution_count": 19,
      "outputs": []
    },
    {
      "cell_type": "markdown",
      "source": [
        "## Generate sound for each pixel in the subset"
      ],
      "metadata": {
        "id": "ipNx7WWcc1SF"
      }
    },
    {
      "cell_type": "code",
      "source": [
        "for r, g, b in zip(r_tensor, g_tensor, b_tensor):\n",
        "    tone = rgb_to_sound(r.item(), g.item(), b.item())\n",
        "    audio += tone"
      ],
      "metadata": {
        "id": "ZVIzA-1OdtlH"
      },
      "execution_count": 20,
      "outputs": []
    },
    {
      "cell_type": "markdown",
      "source": [
        "## Export the final sound file"
      ],
      "metadata": {
        "id": "eCY060Jfc6ps"
      }
    },
    {
      "cell_type": "code",
      "source": [
        "output_filename = \"output_sound_1000_rows_pitch_mapping.wav\"\n",
        "audio.export(output_filename, format=\"wav\")\n",
        "print(f\"Generated {output_filename}\")"
      ],
      "metadata": {
        "colab": {
          "base_uri": "https://localhost:8080/"
        },
        "id": "c7oujjqjc6WV",
        "outputId": "af899a0b-8f11-482b-b02a-74bd825a82bf"
      },
      "execution_count": 21,
      "outputs": [
        {
          "output_type": "stream",
          "name": "stdout",
          "text": [
            "Generated output_sound_1000_rows_pitch_mapping.wav\n"
          ]
        }
      ]
    }
  ]
}